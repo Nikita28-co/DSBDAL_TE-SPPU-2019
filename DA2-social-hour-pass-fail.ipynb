{
 "cells": [
  {
   "cell_type": "code",
   "execution_count": 1,
   "id": "aea60411-cb2a-481a-b56d-75fd91851ecd",
   "metadata": {},
   "outputs": [
    {
     "name": "stdout",
     "output_type": "stream",
     "text": [
      "Prediction for 25 hours: Fail\n",
      "Prediction for 42 hours: Pass\n",
      "\n",
      "Confusion Matrix:\n",
      "[[2 0]\n",
      " [0 3]]\n",
      "TP: 3, FP: 0, TN: 2, FN: 0\n",
      "Accuracy: 1.00\n",
      "Error Rate: 0.00\n",
      "Precision: 1.00\n",
      "Recall: 1.00\n"
     ]
    },
    {
     "name": "stderr",
     "output_type": "stream",
     "text": [
      "D:\\Users\\NIKITA\\anaconda3\\Lib\\site-packages\\sklearn\\base.py:493: UserWarning: X does not have valid feature names, but LogisticRegression was fitted with feature names\n",
      "  warnings.warn(\n"
     ]
    }
   ],
   "source": [
    "import numpy as np\n",
    "import pandas as pd\n",
    "from sklearn.linear_model import LogisticRegression\n",
    "from sklearn.metrics import confusion_matrix\n",
    "\n",
    "# Step 1: Prepare the dataset\n",
    "data = pd.DataFrame({\n",
    "    'STUDY_HOURS': [29, 15, 33, 48, 39],\n",
    "    'PASS_FAIL':   [0, 0, 1, 1, 1]\n",
    "})\n",
    "\n",
    "X = data[['STUDY_HOURS']]  # Feature\n",
    "y = data['PASS_FAIL']      # Target\n",
    "\n",
    "# Step 2: Train Logistic Regression Model\n",
    "model = LogisticRegression()\n",
    "model.fit(X, y)\n",
    "\n",
    "# Step 3: Predict for new students (25 and 42 study hours)\n",
    "predictions = model.predict([[25], [42]])\n",
    "print(f\"Prediction for 25 hours: {'Pass' if predictions[0] == 1 else 'Fail'}\")\n",
    "print(f\"Prediction for 42 hours: {'Pass' if predictions[1] == 1 else 'Fail'}\")\n",
    "\n",
    "# Step 4: Predict on training data to create a confusion matrix\n",
    "y_pred = model.predict(X)\n",
    "\n",
    "# Step 5: Compute Confusion Matrix and Metrics\n",
    "cm = confusion_matrix(y, y_pred)\n",
    "TN, FP, FN, TP = cm.ravel()\n",
    "\n",
    "accuracy = (TP + TN) / (TP + TN + FP + FN)\n",
    "error_rate = 1 - accuracy\n",
    "precision = TP / (TP + FP) if (TP + FP) != 0 else 0\n",
    "recall = TP / (TP + FN) if (TP + FN) != 0 else 0\n",
    "\n",
    "# Step 6: Print Results\n",
    "print(\"\\nConfusion Matrix:\")\n",
    "print(cm)\n",
    "print(f\"TP: {TP}, FP: {FP}, TN: {TN}, FN: {FN}\")\n",
    "print(f\"Accuracy: {accuracy:.2f}\")\n",
    "print(f\"Error Rate: {error_rate:.2f}\")\n",
    "print(f\"Precision: {precision:.2f}\")\n",
    "print(f\"Recall: {recall:.2f}\")\n"
   ]
  },
  {
   "cell_type": "code",
   "execution_count": null,
   "id": "2f515bcf-0d1c-4512-9c27-0776ff647531",
   "metadata": {},
   "outputs": [],
   "source": []
  }
 ],
 "metadata": {
  "kernelspec": {
   "display_name": "Python 3 (ipykernel)",
   "language": "python",
   "name": "python3"
  },
  "language_info": {
   "codemirror_mode": {
    "name": "ipython",
    "version": 3
   },
   "file_extension": ".py",
   "mimetype": "text/x-python",
   "name": "python",
   "nbconvert_exporter": "python",
   "pygments_lexer": "ipython3",
   "version": "3.12.7"
  }
 },
 "nbformat": 4,
 "nbformat_minor": 5
}
