{
 "cells": [
  {
   "cell_type": "code",
   "execution_count": 1,
   "id": "23f288a0-0917-4253-9950-c51f82783d45",
   "metadata": {},
   "outputs": [],
   "source": [
    "# Import necessary libraries\n",
    "import pandas as pd\n",
    "from sklearn.model_selection import train_test_split\n",
    "from sklearn.naive_bayes import GaussianNB\n",
    "from sklearn.metrics import confusion_matrix, accuracy_score, precision_score, recall_score\n",
    "\n",
    "# Load the Iris dataset\n",
    "data = pd.read_csv(\"iris.csv\")\n",
    "\n",
    "# Features and target\n",
    "X = data.drop(\"species\", axis=1)\n",
    "y = data[\"species\"]\n",
    "\n",
    "# Split the dataset (80% train, 20% test)\n",
    "X_train, X_test, y_train, y_test = train_test_split(X, y, test_size=0.2, random_state=42)\n",
    "\n",
    "# Create Naïve Bayes model\n",
    "model = GaussianNB()\n",
    "\n",
    "# Train the model\n",
    "model.fit(X_train, y_train)\n",
    "\n",
    "# Make predictions\n",
    "y_pred = model.predict(X_test)\n"
   ]
  },
  {
   "cell_type": "code",
   "execution_count": 3,
   "id": "eada48ac-048f-4465-a992-2d383cab3ce9",
   "metadata": {},
   "outputs": [
    {
     "name": "stdout",
     "output_type": "stream",
     "text": [
      "y_test binary classes: [0]\n",
      "y_pred binary classes: [0]\n",
      "\n",
      "TP: 0, FP: 0, TN: 30, FN: 0\n",
      "Accuracy: 1.00\n",
      "Error Rate: 0.00\n",
      "Precision: 0.00\n",
      "Recall: 0.00\n"
     ]
    }
   ],
   "source": [
    "# Convert to binary classification: Setosa vs Not-Setosa\n",
    "y_binary = y_test.apply(lambda x: 1 if x == 'setosa' else 0)\n",
    "y_pred_binary = pd.Series(y_pred).apply(lambda x: 1 if x == 'setosa' else 0)\n",
    "\n",
    "# Check unique values\n",
    "print(\"y_test binary classes:\", y_binary.unique())\n",
    "print(\"y_pred binary classes:\", y_pred_binary.unique())\n",
    "\n",
    "# Compute binary confusion matrix\n",
    "cm_bin = confusion_matrix(y_binary, y_pred_binary, labels=[0, 1])\n",
    "\n",
    "# Unpack only if we get a proper 2x2 matrix\n",
    "if cm_bin.shape == (2, 2):\n",
    "    tn, fp, fn, tp = cm_bin.ravel()\n",
    "    print(f\"\\nTP: {tp}, FP: {fp}, TN: {tn}, FN: {fn}\")\n",
    "\n",
    "    # Compute derived metrics\n",
    "    accuracy = (tp + tn) / (tp + tn + fp + fn)\n",
    "    error_rate = 1 - accuracy\n",
    "    precision = tp / (tp + fp) if (tp + fp) != 0 else 0\n",
    "    recall = tp / (tp + fn) if (tp + fn) != 0 else 0\n",
    "\n",
    "    print(f\"Accuracy: {accuracy:.2f}\")\n",
    "    print(f\"Error Rate: {error_rate:.2f}\")\n",
    "    print(f\"Precision: {precision:.2f}\")\n",
    "    print(f\"Recall: {recall:.2f}\")\n",
    "else:\n",
    "    print(\"Confusion matrix is not 2x2. Check your binary classes.\")\n",
    "\n"
   ]
  },
  {
   "cell_type": "code",
   "execution_count": null,
   "id": "41d1e585-9280-4f02-acc1-de435571b8f5",
   "metadata": {},
   "outputs": [],
   "source": []
  }
 ],
 "metadata": {
  "kernelspec": {
   "display_name": "Python 3 (ipykernel)",
   "language": "python",
   "name": "python3"
  },
  "language_info": {
   "codemirror_mode": {
    "name": "ipython",
    "version": 3
   },
   "file_extension": ".py",
   "mimetype": "text/x-python",
   "name": "python",
   "nbconvert_exporter": "python",
   "pygments_lexer": "ipython3",
   "version": "3.12.7"
  }
 },
 "nbformat": 4,
 "nbformat_minor": 5
}
