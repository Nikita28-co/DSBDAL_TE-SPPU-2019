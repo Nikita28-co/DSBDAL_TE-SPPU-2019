{
 "cells": [
  {
   "cell_type": "code",
   "execution_count": 3,
   "id": "6a7de438-384a-45d7-97d8-dbb90a9e2632",
   "metadata": {},
   "outputs": [
    {
     "data": {
      "text/html": [
       "<div>\n",
       "<style scoped>\n",
       "    .dataframe tbody tr th:only-of-type {\n",
       "        vertical-align: middle;\n",
       "    }\n",
       "\n",
       "    .dataframe tbody tr th {\n",
       "        vertical-align: top;\n",
       "    }\n",
       "\n",
       "    .dataframe thead th {\n",
       "        text-align: right;\n",
       "    }\n",
       "</style>\n",
       "<table border=\"1\" class=\"dataframe\">\n",
       "  <thead>\n",
       "    <tr style=\"text-align: right;\">\n",
       "      <th></th>\n",
       "      <th>Education</th>\n",
       "      <th>JoiningYear</th>\n",
       "      <th>City</th>\n",
       "      <th>PaymentTier</th>\n",
       "      <th>Age</th>\n",
       "      <th>Gender</th>\n",
       "      <th>EverBenched</th>\n",
       "      <th>ExperienceInCurrentDomain</th>\n",
       "      <th>LeaveOrNot</th>\n",
       "      <th>Salary</th>\n",
       "    </tr>\n",
       "  </thead>\n",
       "  <tbody>\n",
       "    <tr>\n",
       "      <th>0</th>\n",
       "      <td>Bachelors</td>\n",
       "      <td>2017</td>\n",
       "      <td>Bangalore</td>\n",
       "      <td>3</td>\n",
       "      <td>34</td>\n",
       "      <td>Male</td>\n",
       "      <td>No</td>\n",
       "      <td>0</td>\n",
       "      <td>0</td>\n",
       "      <td>171369.0</td>\n",
       "    </tr>\n",
       "    <tr>\n",
       "      <th>1</th>\n",
       "      <td>Bachelors</td>\n",
       "      <td>2013</td>\n",
       "      <td>Pune</td>\n",
       "      <td>1</td>\n",
       "      <td>28</td>\n",
       "      <td>Female</td>\n",
       "      <td>No</td>\n",
       "      <td>3</td>\n",
       "      <td>1</td>\n",
       "      <td>136993.0</td>\n",
       "    </tr>\n",
       "    <tr>\n",
       "      <th>2</th>\n",
       "      <td>Bachelors</td>\n",
       "      <td>2014</td>\n",
       "      <td>New Delhi</td>\n",
       "      <td>3</td>\n",
       "      <td>38</td>\n",
       "      <td>Female</td>\n",
       "      <td>No</td>\n",
       "      <td>2</td>\n",
       "      <td>0</td>\n",
       "      <td>113807.0</td>\n",
       "    </tr>\n",
       "    <tr>\n",
       "      <th>3</th>\n",
       "      <td>Masters</td>\n",
       "      <td>2016</td>\n",
       "      <td>Bangalore</td>\n",
       "      <td>3</td>\n",
       "      <td>27</td>\n",
       "      <td>Male</td>\n",
       "      <td>No</td>\n",
       "      <td>5</td>\n",
       "      <td>1</td>\n",
       "      <td>166478.0</td>\n",
       "    </tr>\n",
       "    <tr>\n",
       "      <th>4</th>\n",
       "      <td>Masters</td>\n",
       "      <td>2017</td>\n",
       "      <td>NaN</td>\n",
       "      <td>3</td>\n",
       "      <td>24</td>\n",
       "      <td>Male</td>\n",
       "      <td>Yes</td>\n",
       "      <td>2</td>\n",
       "      <td>1</td>\n",
       "      <td>393136.0</td>\n",
       "    </tr>\n",
       "  </tbody>\n",
       "</table>\n",
       "</div>"
      ],
      "text/plain": [
       "   Education  JoiningYear       City  PaymentTier  Age  Gender EverBenched  \\\n",
       "0  Bachelors         2017  Bangalore            3   34    Male          No   \n",
       "1  Bachelors         2013       Pune            1   28  Female          No   \n",
       "2  Bachelors         2014  New Delhi            3   38  Female          No   \n",
       "3    Masters         2016  Bangalore            3   27    Male          No   \n",
       "4    Masters         2017        NaN            3   24    Male         Yes   \n",
       "\n",
       "   ExperienceInCurrentDomain  LeaveOrNot    Salary  \n",
       "0                          0           0  171369.0  \n",
       "1                          3           1  136993.0  \n",
       "2                          2           0  113807.0  \n",
       "3                          5           1  166478.0  \n",
       "4                          2           1  393136.0  "
      ]
     },
     "execution_count": 3,
     "metadata": {},
     "output_type": "execute_result"
    }
   ],
   "source": [
    "import pandas as pd\n",
    "import numpy as np\n",
    "import seaborn as sns\n",
    "import matplotlib.pyplot as plt\n",
    "\n",
    "# Load your dataset\n",
    "df = pd.read_csv(\"employee_2.csv\")\n",
    "\n",
    "# Display first few rows\n",
    "df.head()\n"
   ]
  },
  {
   "cell_type": "code",
   "execution_count": 5,
   "id": "e8529d0d-08ce-4602-89dd-b45679a0957f",
   "metadata": {},
   "outputs": [
    {
     "name": "stdout",
     "output_type": "stream",
     "text": [
      "Max & Standard Deviation:\n",
      "           Age         Salary\n",
      "max  40.000000  399785.000000\n",
      "std   2.142854  100823.365853\n",
      "\n",
      "Covariance Matrix:\n",
      "                Age        Salary\n",
      "Age        4.591823 -4.897130e+03\n",
      "Salary -4897.130103  1.016535e+10\n"
     ]
    }
   ],
   "source": [
    "# Descriptive stats: max and std deviation\n",
    "print(\"Max & Standard Deviation:\")\n",
    "print(df[['Age', 'Salary']].agg(['max', 'std']))\n",
    "\n",
    "# Covariance between numeric variables\n",
    "print(\"\\nCovariance Matrix:\")\n",
    "print(df[['Age', 'Salary']].cov())\n"
   ]
  },
  {
   "cell_type": "code",
   "execution_count": 9,
   "id": "0907f4d8-a0cc-43a8-9aa7-cf4151353981",
   "metadata": {},
   "outputs": [
    {
     "name": "stdout",
     "output_type": "stream",
     "text": [
      "\n",
      "Grouped Summary (Salary by Education):\n",
      "                max            std\n",
      "Education                         \n",
      "Bachelors  399785.0  101085.642035\n",
      "Masters    398111.0   98345.186433\n",
      "PHD        399612.0  109375.985511\n",
      "\n",
      "Numeric values for categorical responses (Education):\n",
      "    Education  Education_Code\n",
      "0   Bachelors               0\n",
      "3     Masters               1\n",
      "30        PHD               2\n"
     ]
    }
   ],
   "source": [
    "# Grouped by 'Department', calculate max, std, cov\n",
    "grouped_stats = df.groupby('Education')['Salary'].agg(['max', 'std'])\n",
    "print(\"\\nGrouped Summary (Salary by Education):\")\n",
    "print(grouped_stats)\n",
    "\n",
    "# Convert Department to numeric codes\n",
    "df['Education_Code'] = df['Education'].astype('category').cat.codes\n",
    "print(\"\\nNumeric values for categorical responses (Education):\")\n",
    "print(df[['Education', 'Education_Code']].drop_duplicates())\n"
   ]
  },
  {
   "cell_type": "code",
   "execution_count": 13,
   "id": "cafb245a-ebeb-47b6-a2a0-5c31b43838a9",
   "metadata": {},
   "outputs": [
    {
     "name": "stdout",
     "output_type": "stream",
     "text": [
      "\n",
      "Age Counts:\n",
      "Age\n",
      "26    363\n",
      "28    358\n",
      "27    352\n",
      "25    347\n",
      "24    312\n",
      "34     11\n",
      "23      8\n",
      "30      8\n",
      "36      6\n",
      "37      6\n",
      "31      6\n",
      "29      6\n",
      "39      5\n",
      "22      5\n",
      "38      5\n",
      "32      4\n",
      "40      4\n",
      "35      1\n",
      "Name: count, dtype: int64\n"
     ]
    }
   ],
   "source": [
    "age_counts = df['Age'].value_counts()\n",
    "print(\"\\nAge Counts:\")\n",
    "print(age_counts)\n"
   ]
  },
  {
   "cell_type": "code",
   "execution_count": 15,
   "id": "5d0dd5ab-333a-45b5-8d3e-97ee7682aff4",
   "metadata": {},
   "outputs": [
    {
     "data": {
      "image/png": "[encoded data removed]",
      "text/plain": [
       "<Figure size 800x500 with 1 Axes>"
      ]
     },
     "metadata": {},
     "output_type": "display_data"
    }
   ],
   "source": [
    "# Example: Visualize 'Age' column\n",
    "plt.figure(figsize=(8, 5))\n",
    "sns.histplot(df['Age'], bins=10, kde=True, color='orange')\n",
    "plt.title('Age Distribution')\n",
    "plt.xlabel('Age')\n",
    "plt.ylabel('Count')\n",
    "plt.grid(True)\n",
    "plt.show()\n"
   ]
  },
  {
   "cell_type": "code",
   "execution_count": null,
   "id": "3a798466-6d97-49f7-9e07-e628e7963751",
   "metadata": {},
   "outputs": [],
   "source": []
  }
 ],
 "metadata": {
  "kernelspec": {
   "display_name": "Python 3 (ipykernel)",
   "language": "python",
   "name": "python3"
  },
  "language_info": {
   "codemirror_mode": {
    "name": "ipython",
    "version": 3
   },
   "file_extension": ".py",
   "mimetype": "text/x-python",
   "name": "python",
   "nbconvert_exporter": "python",
   "pygments_lexer": "ipython3",
   "version": "3.12.7"
  }
 },
 "nbformat": 4,
 "nbformat_minor": 5
}
