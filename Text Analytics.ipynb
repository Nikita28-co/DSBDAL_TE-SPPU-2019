{
 "cells": [
  {
   "cell_type": "code",
   "execution_count": 14,
   "id": "9808bf87-6ca9-4504-91cf-88432a76fa16",
   "metadata": {},
   "outputs": [
    {
     "name": "stderr",
     "output_type": "stream",
     "text": [
      "[nltk_data] Downloading package averaged_perceptron_tagger to\n",
      "[nltk_data]     C:\\Users\\NIKITA\\AppData\\Roaming\\nltk_data...\n",
      "[nltk_data]   Package averaged_perceptron_tagger is already up-to-\n",
      "[nltk_data]       date!\n",
      "[nltk_data] Downloading package omw-1.4 to\n",
      "[nltk_data]     C:\\Users\\NIKITA\\AppData\\Roaming\\nltk_data...\n",
      "[nltk_data]   Package omw-1.4 is already up-to-date!\n"
     ]
    },
    {
     "data": {
      "text/plain": [
       "True"
      ]
     },
     "execution_count": 14,
     "metadata": {},
     "output_type": "execute_result"
    }
   ],
   "source": [
    "import nltk\n",
    "from nltk.tokenize import word_tokenize, sent_tokenize\n",
    "from nltk.corpus import stopwords\n",
    "from nltk.stem import PorterStemmer, WordNetLemmatizer\n",
    "from nltk import pos_tag\n",
    "nltk.download('averaged_perceptron_tagger')\n",
    "nltk.download('omw-1.4')\n"
   ]
  },
  {
   "cell_type": "code",
   "execution_count": 16,
   "id": "79bdf5a3-c633-4942-9bd5-d8d4622f5a92",
   "metadata": {},
   "outputs": [],
   "source": [
    "doc = \"Artificial Intelligence was introduced in 1956. Today, it is widely used in many fields such as healthcare, education, and robotics.\"\n"
   ]
  },
  {
   "cell_type": "code",
   "execution_count": 18,
   "id": "0c55cdee-923a-4f77-9021-52ba514e9093",
   "metadata": {},
   "outputs": [
    {
     "name": "stdout",
     "output_type": "stream",
     "text": [
      "Tokens: ['Artificial', 'Intelligence', 'was', 'introduced', 'in', '1956', '.', 'Today', ',', 'it', 'is', 'widely', 'used', 'in', 'many', 'fields', 'such', 'as', 'healthcare', ',', 'education', ',', 'and', 'robotics', '.']\n"
     ]
    }
   ],
   "source": [
    "tokens = word_tokenize(doc)\n",
    "print(\"Tokens:\", tokens)\n"
   ]
  },
  {
   "cell_type": "code",
   "execution_count": 22,
   "id": "d7a34449-aa80-4e13-88fb-6f33615cd5e6",
   "metadata": {},
   "outputs": [
    {
     "name": "stderr",
     "output_type": "stream",
     "text": [
      "[nltk_data] Downloading package averaged_perceptron_tagger_eng to\n",
      "[nltk_data]     C:\\Users\\NIKITA\\AppData\\Roaming\\nltk_data...\n",
      "[nltk_data]   Unzipping taggers\\averaged_perceptron_tagger_eng.zip.\n"
     ]
    },
    {
     "name": "stdout",
     "output_type": "stream",
     "text": [
      "POS Tags: [('Artificial', 'JJ'), ('Intelligence', 'NNP'), ('was', 'VBD'), ('introduced', 'VBN'), ('in', 'IN'), ('1956', 'CD'), ('.', '.'), ('Today', 'NN'), (',', ','), ('it', 'PRP'), ('is', 'VBZ'), ('widely', 'RB'), ('used', 'VBN'), ('in', 'IN'), ('many', 'JJ'), ('fields', 'NNS'), ('such', 'JJ'), ('as', 'IN'), ('healthcare', 'NN'), (',', ','), ('education', 'NN'), (',', ','), ('and', 'CC'), ('robotics', 'NNS'), ('.', '.')]\n"
     ]
    }
   ],
   "source": [
    "import nltk\n",
    "nltk.download('averaged_perceptron_tagger_eng')\n",
    "pos_tags = pos_tag(tokens)\n",
    "print(\"POS Tags:\", pos_tags)\n"
   ]
  },
  {
   "cell_type": "code",
   "execution_count": 24,
   "id": "2167309a-a5cf-4f31-b64d-e8381af89ecb",
   "metadata": {},
   "outputs": [
    {
     "name": "stdout",
     "output_type": "stream",
     "text": [
      "Filtered Tokens: ['Artificial', 'Intelligence', 'introduced', '1956', '.', 'Today', ',', 'widely', 'used', 'many', 'fields', 'healthcare', ',', 'education', ',', 'robotics', '.']\n"
     ]
    }
   ],
   "source": [
    "stop_words = set(stopwords.words('english'))\n",
    "filtered_tokens = [w for w in tokens if w.lower() not in stop_words]\n",
    "print(\"Filtered Tokens:\", filtered_tokens)\n"
   ]
  },
  {
   "cell_type": "code",
   "execution_count": 26,
   "id": "1276d3c2-15b4-4e82-b1e5-1950ba6934c7",
   "metadata": {},
   "outputs": [
    {
     "name": "stdout",
     "output_type": "stream",
     "text": [
      "Stemmed: ['artifici', 'intellig', 'introduc', '1956', '.', 'today', ',', 'wide', 'use', 'mani', 'field', 'healthcar', ',', 'educ', ',', 'robot', '.']\n"
     ]
    }
   ],
   "source": [
    "stemmer = PorterStemmer()\n",
    "stemmed = [stemmer.stem(w) for w in filtered_tokens]\n",
    "print(\"Stemmed:\", stemmed)\n"
   ]
  },
  {
   "cell_type": "code",
   "execution_count": 28,
   "id": "8498e052-2e19-4220-9429-6dd51a4821e4",
   "metadata": {},
   "outputs": [
    {
     "name": "stdout",
     "output_type": "stream",
     "text": [
      "Lemmatized: ['artificial', 'intelligence', 'introduced', '1956', '.', 'today', ',', 'widely', 'used', 'many', 'field', 'healthcare', ',', 'education', ',', 'robotics', '.']\n"
     ]
    }
   ],
   "source": [
    "lemmatizer = WordNetLemmatizer()\n",
    "lemmatized = [lemmatizer.lemmatize(w.lower()) for w in filtered_tokens]\n",
    "print(\"Lemmatized:\", lemmatized)\n"
   ]
  },
  {
   "cell_type": "code",
   "execution_count": 37,
   "id": "e711fc17-6a71-4332-9e0f-9efea07b0dbd",
   "metadata": {},
   "outputs": [],
   "source": [
    "from sklearn.feature_extraction.text import TfidfVectorizer\n"
   ]
  },
  {
   "cell_type": "code",
   "execution_count": 39,
   "id": "56a22677-cc03-4749-9fa7-8316a5cfb93b",
   "metadata": {},
   "outputs": [],
   "source": [
    "documents = [\n",
    "    \"Artificial Intelligence is used in healthcare.\",\n",
    "    \"Robotics and AI are the future of technology.\",\n",
    "    \"Machine learning is a branch of Artificial Intelligence.\"\n",
    "]\n"
   ]
  },
  {
   "cell_type": "code",
   "execution_count": 41,
   "id": "0b686b57-0b38-4f39-8b05-acf30a1e7831",
   "metadata": {},
   "outputs": [
    {
     "name": "stdout",
     "output_type": "stream",
     "text": [
      "Vocabulary Terms: ['ai' 'and' 'are' 'artificial' 'branch' 'future' 'healthcare' 'in'\n",
      " 'intelligence' 'is' 'learning' 'machine' 'of' 'robotics' 'technology'\n",
      " 'the' 'used']\n",
      "\n",
      "TF-IDF Matrix:\n",
      "         ai       and       are  artificial    branch    future  healthcare  \\\n",
      "0  0.000000  0.000000  0.000000    0.349498  0.000000  0.000000    0.459548   \n",
      "1  0.363255  0.363255  0.363255    0.000000  0.000000  0.363255    0.000000   \n",
      "2  0.000000  0.000000  0.000000    0.329928  0.433816  0.000000    0.000000   \n",
      "\n",
      "         in  intelligence        is  learning   machine        of  robotics  \\\n",
      "0  0.459548      0.349498  0.349498  0.000000  0.000000  0.000000  0.000000   \n",
      "1  0.000000      0.000000  0.000000  0.000000  0.000000  0.276265  0.363255   \n",
      "2  0.000000      0.329928  0.329928  0.433816  0.433816  0.329928  0.000000   \n",
      "\n",
      "   technology       the      used  \n",
      "0    0.000000  0.000000  0.459548  \n",
      "1    0.363255  0.363255  0.000000  \n",
      "2    0.000000  0.000000  0.000000  \n"
     ]
    }
   ],
   "source": [
    "vectorizer = TfidfVectorizer()\n",
    "tfidf_matrix = vectorizer.fit_transform(documents)\n",
    "\n",
    "# Feature names (terms)\n",
    "print(\"Vocabulary Terms:\", vectorizer.get_feature_names_out())\n",
    "\n",
    "# TF-IDF Matrix\n",
    "import pandas as pd\n",
    "df = pd.DataFrame(tfidf_matrix.toarray(), columns=vectorizer.get_feature_names_out())\n",
    "print(\"\\nTF-IDF Matrix:\")\n",
    "print(df)\n"
   ]
  },
  {
   "cell_type": "code",
   "execution_count": null,
   "id": "40122161-04fe-4960-8fdb-6d35b87cd2fe",
   "metadata": {},
   "outputs": [],
   "source": []
  }
 ],
 "metadata": {
  "kernelspec": {
   "display_name": "Python 3 (ipykernel)",
   "language": "python",
   "name": "python3"
  },
  "language_info": {
   "codemirror_mode": {
    "name": "ipython",
    "version": 3
   },
   "file_extension": ".py",
   "mimetype": "text/x-python",
   "name": "python",
   "nbconvert_exporter": "python",
   "pygments_lexer": "ipython3",
   "version": "3.12.7"
  }
 },
 "nbformat": 4,
 "nbformat_minor": 5
}
