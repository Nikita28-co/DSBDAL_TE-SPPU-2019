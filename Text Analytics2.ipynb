{
 "cells": [
  {
   "cell_type": "code",
   "execution_count": 3,
   "id": "e97095bb-8427-4759-9574-548e25a7cae1",
   "metadata": {},
   "outputs": [
    {
     "name": "stderr",
     "output_type": "stream",
     "text": [
      "[nltk_data] Downloading package punkt_tab to\n",
      "[nltk_data]     C:\\Users\\NIKITA\\AppData\\Roaming\\nltk_data...\n",
      "[nltk_data]   Unzipping tokenizers\\punkt_tab.zip.\n"
     ]
    },
    {
     "name": "stdout",
     "output_type": "stream",
     "text": [
      "['Hello', '!', 'I', \"'m\", 'learning', 'NLP', 'using', 'NLTK', '.']\n"
     ]
    }
   ],
   "source": [
    "import nltk\n",
    "nltk.download('punkt_tab')\n",
    "from nltk.tokenize import word_tokenize\n",
    "\n",
    "text = \"Hello! I'm learning NLP using NLTK.\"\n",
    "tokens = word_tokenize(text)\n",
    "print(tokens)"
   ]
  },
  {
   "cell_type": "code",
   "execution_count": 7,
   "id": "b7aed3a7-2f34-4035-aecc-df72fc91dab8",
   "metadata": {},
   "outputs": [
    {
     "name": "stdout",
     "output_type": "stream",
     "text": [
      "['Hello!', \"I'm learning NLP using NLTK.\"]\n"
     ]
    }
   ],
   "source": [
    "from nltk.tokenize import sent_tokenize\n",
    "\n",
    "text = \"Hello! I'm learning NLP using NLTK.\"\n",
    "tokens = sent_tokenize(text)\n",
    "print(tokens)"
   ]
  },
  {
   "cell_type": "code",
   "execution_count": 11,
   "id": "80067031-eb9d-4358-9771-aa848b0817a0",
   "metadata": {},
   "outputs": [
    {
     "name": "stdout",
     "output_type": "stream",
     "text": [
      "wait\n",
      "wait\n",
      "wait\n",
      "wait\n"
     ]
    }
   ],
   "source": [
    "from nltk.stem import PorterStemmer\n",
    "e_words= [\"wait\",\"waiting\",\"waited\",\"waits\"]\n",
    "ps=PorterStemmer()\n",
    "for w in e_words:\n",
    "    rootword=ps.stem(w)\n",
    "    print(rootword)"
   ]
  },
  {
   "cell_type": "code",
   "execution_count": 29,
   "id": "1db52577-6d0e-4c0a-bae6-e73ed7567510",
   "metadata": {},
   "outputs": [
    {
     "name": "stdout",
     "output_type": "stream",
     "text": [
      "stemming for studies is studi\n",
      "stemming for studying is studi\n",
      "stemming for cries is cri\n",
      "stemming for cry is cri\n"
     ]
    }
   ],
   "source": [
    "#stemmization\n",
    "from nltk.stem.porter import PorterStemmer\n",
    "ps=PorterStemmer()\n",
    "text=\"studies studying cries cry\"\n",
    "tokenization=nltk.word_tokenize(text)\n",
    "for w in tokenization:\n",
    "    print(\"stemming for {} is {}\".format(w,ps.stem(w)))"
   ]
  },
  {
   "cell_type": "code",
   "execution_count": 31,
   "id": "f72fa1c2-6c09-4bad-88fa-029ccdf32f30",
   "metadata": {},
   "outputs": [
    {
     "name": "stdout",
     "output_type": "stream",
     "text": [
      "Lemma for studies is study\n",
      "Lemma for studying is studying\n",
      "Lemma for cries is cry\n",
      "Lemma for cry is cry\n"
     ]
    },
    {
     "name": "stderr",
     "output_type": "stream",
     "text": [
      "[nltk_data] Downloading package wordnet to\n",
      "[nltk_data]     C:\\Users\\NIKITA\\AppData\\Roaming\\nltk_data...\n",
      "[nltk_data]   Package wordnet is already up-to-date!\n"
     ]
    }
   ],
   "source": [
    "#lemmatization\n",
    "import nltk\n",
    "nltk.download('wordnet')\n",
    "from nltk.stem import WordNetLemmatizer\n",
    "wordlemma=WordNetLemmatizer()\n",
    "text=\"studies studying cries cry\"\n",
    "tokenization=nltk.word_tokenize(text)\n",
    "for w in tokenization:\n",
    "    print(\"Lemma for {} is {}\".format(w,wordlemma.lemmatize(w)))"
   ]
  },
  {
   "cell_type": "code",
   "execution_count": 37,
   "id": "b9865b0e-424d-4130-83b5-42e831b81a41",
   "metadata": {},
   "outputs": [
    {
     "name": "stderr",
     "output_type": "stream",
     "text": [
      "[nltk_data] Downloading package stopwords to\n",
      "[nltk_data]     C:\\Users\\NIKITA\\AppData\\Roaming\\nltk_data...\n"
     ]
    },
    {
     "name": "stdout",
     "output_type": "stream",
     "text": [
      "['AI', 'introduced', 'year', '1956', 'gained', 'popularity', 'recently', '.']\n"
     ]
    },
    {
     "name": "stderr",
     "output_type": "stream",
     "text": [
      "[nltk_data]   Unzipping corpora\\stopwords.zip.\n"
     ]
    }
   ],
   "source": [
    "import nltk\n",
    "nltk.download('stopwords')\n",
    "from nltk.tokenize import sent_tokenize, word_tokenize\n",
    "from nltk.corpus import stopwords\n",
    "data =\"AI was introduced in the year 1956 but it gained popularity recently.\"\n",
    "stopwords=set(stopwords.words('english'))\n",
    "words=word_tokenize(data)\n",
    "wordsFiltered=[]\n",
    "\n",
    "for w in words:\n",
    "    if w not in stopwords:\n",
    "        wordsFiltered.append(w)\n",
    "print(wordsFiltered)\n",
    "              "
   ]
  },
  {
   "cell_type": "code",
   "execution_count": 39,
   "id": "8207a95a-c3ab-401d-a0bd-b18fc23d5d1d",
   "metadata": {},
   "outputs": [
    {
     "name": "stdout",
     "output_type": "stream",
     "text": [
      "198\n",
      "{'both', 'to', \"should've\", 'we', 'ours', 'each', 'from', 'or', 'themselves', \"we've\", 'then', 'can', 'were', 'herself', 'now', 'as', 'doesn', 'below', 'it', 'about', \"don't\", 'haven', 'why', 'here', 'these', 'whom', 'your', 'on', 'too', 'at', 'the', 'for', 'her', 'so', 'but', \"isn't\", 'more', 'not', 'ourselves', 'wouldn', \"you've\", \"haven't\", 'them', 've', 'am', 'mightn', 'doing', 'been', 'hers', 'during', 'him', 'no', \"it'd\", \"hasn't\", 'most', \"they'd\", 'do', 'yours', 'when', 'some', 'his', \"we're\", \"shan't\", \"you'd\", 'are', 'y', 'just', 'off', 'there', 'a', 'which', 'my', 'other', 'further', \"i'd\", \"they're\", 'over', 'because', 'should', 'couldn', \"weren't\", 'what', 'and', 'wasn', 'did', 'same', 't', 'who', \"he's\", \"wasn't\", 'an', 'd', \"didn't\", 'was', 'didn', 'has', 'again', 'shan', 'she', 'after', 's', 'if', 'with', 'up', 'through', 'their', 'yourselves', 'himself', 'own', 'any', \"he'd\", \"shouldn't\", 'our', 'does', 'very', \"i'm\", \"i've\", \"she's\", 'before', 'by', 'being', 'hasn', \"couldn't\", 'is', \"mustn't\", 'm', 'of', 'this', 'don', \"that'll\", 'above', \"we'll\", 'having', 'where', 'ma', 'needn', 'they', 'weren', 'i', \"we'd\", 'itself', 'yourself', \"he'll\", 'won', 'against', 'only', \"won't\", 'be', \"needn't\", 'between', \"aren't\", \"wouldn't\", 'that', 'nor', 'aren', 'll', \"you're\", \"they'll\", 'shouldn', 'its', 'have', 'how', \"hadn't\", 'me', 'you', 'all', 'o', 'isn', 'while', 'had', 'hadn', 'myself', 'theirs', \"it'll\", 'out', \"she'd\", 'those', 'mustn', 'ain', \"she'll\", 'such', \"i'll\", 'into', 'than', 'down', 'until', 'once', 're', 'under', \"they've\", \"you'll\", 'will', 'few', \"mightn't\", \"doesn't\", 'he', 'in', \"it's\"}\n"
     ]
    }
   ],
   "source": [
    "print(len(stopwords))\n",
    "print(stopwords)"
   ]
  },
  {
   "cell_type": "code",
   "execution_count": null,
   "id": "b360efa3-1323-44d2-b649-9d68ea03d424",
   "metadata": {},
   "outputs": [],
   "source": []
  }
 ],
 "metadata": {
  "kernelspec": {
   "display_name": "Python 3 (ipykernel)",
   "language": "python",
   "name": "python3"
  },
  "language_info": {
   "codemirror_mode": {
    "name": "ipython",
    "version": 3
   },
   "file_extension": ".py",
   "mimetype": "text/x-python",
   "name": "python",
   "nbconvert_exporter": "python",
   "pygments_lexer": "ipython3",
   "version": "3.12.7"
  }
 },
 "nbformat": 4,
 "nbformat_minor": 5
}
